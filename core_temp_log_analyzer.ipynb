{
 "cells": [
  {
   "cell_type": "markdown",
   "metadata": {},
   "source": [
    "### Overview"
   ]
  },
  {
   "cell_type": "markdown",
   "metadata": {},
   "source": [
    "This notebook works through the steps for cleaning a Core Temp log file. The log files need to be manually cleaned (the header row (row 9) needs to be replaced with the template header for that number of cores). The notebook works through the cleaning steps required to analyse the data. \n",
    "\n",
    "To load the correct file, place the file name into the load function."
   ]
  },
  {
   "cell_type": "markdown",
   "metadata": {},
   "source": [
    "### Research Questions"
   ]
  },
  {
   "cell_type": "markdown",
   "metadata": {},
   "source": [
    "- What are the average, min and max temperatures?\n",
    "- What impact does a change in load have on temps?\n",
    "- How do difference systems compare for temp statistics?\n"
   ]
  },
  {
   "cell_type": "code",
   "execution_count": null,
   "metadata": {},
   "outputs": [],
   "source": [
    "import numpy as np\n",
    "import pandas as pd\n",
    "\n",
    "%matplotlib inline"
   ]
  },
  {
   "cell_type": "markdown",
   "metadata": {},
   "source": [
    "### Gather"
   ]
  },
  {
   "cell_type": "code",
   "execution_count": null,
   "metadata": {},
   "outputs": [],
   "source": [
    "#### Preparation"
   ]
  },
  {
   "cell_type": "code",
   "execution_count": 1,
   "metadata": {},
   "outputs": [],
   "source": [
    "# Load the file\n",
    "# Note: Replace 'file_name' with the correct file name\n",
    "# Read the first 7 lines into a dict with [0] being key and [1] being value\n",
    "# Skip row 6\n",
    "# Read row remaining rows into a list\n",
    "# First list item is header row\n",
    "# Remaining rows are to be the rows in the dataframe"
   ]
  },
  {
   "cell_type": "markdown",
   "metadata": {},
   "source": [
    "- load the data\n",
    "  - load session info (first 8 lines)\n",
    "    - check if need to deal with empty lines\n",
    "    - store data in a dict\n",
    "  - load session data\n",
    "    - read into a pandas dataframe if possible directly (line by line)\n",
    "    - if necessary, read into a list or dict and then read into pandas dataframe"
   ]
  },
  {
   "cell_type": "markdown",
   "metadata": {},
   "source": [
    "### Assess"
   ]
  },
  {
   "cell_type": "markdown",
   "metadata": {},
   "source": [
    "To do:\n",
    "- Check if Time column needs cleaning - data type, format etc\n",
    "- Check that data columns are floats"
   ]
  },
  {
   "cell_type": "markdown",
   "metadata": {},
   "source": [
    "### Clean"
   ]
  },
  {
   "cell_type": "markdown",
   "metadata": {},
   "source": [
    "To do:\n",
    "- Drop Core_x columns\n",
    "  - Use regex to find 'Core_'\\d+\n",
    "- Melt columns so that '..Core_x' gets placed into a new 'Core' column\n",
    "- Melt columns so only one column each for Low_Temp, High_Temp, Core_Load and Core_Speed \n",
    "- Clean Time column: Type, format etc\n",
    "  "
   ]
  },
  {
   "cell_type": "markdown",
   "metadata": {},
   "source": [
    "### Analysis"
   ]
  },
  {
   "cell_type": "markdown",
   "metadata": {},
   "source": [
    "- Find average core temperatures\n",
    "- Find min and max temps\n",
    "- Relate load to temp\n",
    "- Track temps across time\n",
    "- Gather some summary statistics that can be saved and then compared across datasets"
   ]
  },
  {
   "cell_type": "code",
   "execution_count": null,
   "metadata": {},
   "outputs": [],
   "source": []
  }
 ],
 "metadata": {
  "kernelspec": {
   "display_name": "Python 3",
   "language": "python",
   "name": "python3"
  },
  "language_info": {
   "codemirror_mode": {
    "name": "ipython",
    "version": 3
   },
   "file_extension": ".py",
   "mimetype": "text/x-python",
   "name": "python",
   "nbconvert_exporter": "python",
   "pygments_lexer": "ipython3",
   "version": "3.6.8"
  }
 },
 "nbformat": 4,
 "nbformat_minor": 2
}
